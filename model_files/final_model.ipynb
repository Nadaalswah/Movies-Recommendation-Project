{
 "nbformat": 4,
 "nbformat_minor": 0,
 "metadata": {
  "colab": {
   "provenance": []
  },
  "kernelspec": {
   "name": "python3",
   "language": "python",
   "display_name": "Python 3"
  },
  "language_info": {
   "name": "python"
  }
 },
 "cells": [
  {
   "cell_type": "code",
   "source": [
    "import pandas as pd\n",
    "from lightfm import LightFM\n",
    "from lightfm.data import Dataset as LightFMDataset\n",
    "from lightfm.cross_validation import random_train_test_split\n",
    "from lightfm.evaluation import auc_score\n",
    "import joblib\n",
    "from sklearn.metrics.pairwise import cosine_similarity\n",
    "import numpy as np"
   ],
   "metadata": {
    "id": "73KA-inAJLUZ"
   },
   "execution_count": 2,
   "outputs": []
  },
  {
   "cell_type": "code",
   "source": [
    "# Load the MovieLens dataset\n",
    "url = 'https://files.grouplens.org/datasets/movielens/ml-latest-small.zip'\n",
    "dataset_path = '/content/ml-latest-small.zip'\n",
    "\n",
    "# Download and unzip the dataset\n",
    "!wget -nc $url -O $dataset_path\n",
    "!unzip -n $dataset_path -d /content/\n",
    "\n",
    "\n"
   ],
   "metadata": {
    "colab": {
     "base_uri": "https://localhost:8080/"
    },
    "id": "i7GwPTSoJOLa",
    "outputId": "f81d766b-ad5b-4714-e97e-67bb0b57a1ec"
   },
   "execution_count": 5,
   "outputs": [
    {
     "output_type": "stream",
     "name": "stdout",
     "text": [
      "--2024-07-02 20:33:44--  https://files.grouplens.org/datasets/movielens/ml-latest-small.zip\n",
      "Resolving files.grouplens.org (files.grouplens.org)... 128.101.65.152\n",
      "Connecting to files.grouplens.org (files.grouplens.org)|128.101.65.152|:443... connected.\n",
      "HTTP request sent, awaiting response... 200 OK\n",
      "Length: 978202 (955K) [application/zip]\n",
      "Saving to: ‘/content/ml-latest-small.zip’\n",
      "\n",
      "/content/ml-latest- 100%[===================>] 955.28K  1.31MB/s    in 0.7s    \n",
      "\n",
      "2024-07-02 20:33:45 (1.31 MB/s) - ‘/content/ml-latest-small.zip’ saved [978202/978202]\n",
      "\n",
      "Archive:  /content/ml-latest-small.zip\n",
      "   creating: /content/ml-latest-small/\n",
      "  inflating: /content/ml-latest-small/links.csv  \n",
      "  inflating: /content/ml-latest-small/tags.csv  \n",
      "  inflating: /content/ml-latest-small/ratings.csv  \n",
      "  inflating: /content/ml-latest-small/README.txt  \n",
      "  inflating: /content/ml-latest-small/movies.csv  \n"
     ]
    }
   ]
  },
  {
   "cell_type": "code",
   "source": [
    "# Load data into pandas dataframes\n",
    "ratings = pd.read_csv('/content/ml-latest-small/ratings.csv')\n",
    "movies = pd.read_csv('/content/ml-latest-small/movies.csv')"
   ],
   "metadata": {
    "id": "mKhxdk4QukpK"
   },
   "execution_count": 6,
   "outputs": []
  },
  {
   "cell_type": "code",
   "source": [
    "# Load the whole model\n",
    "deployed_model = joblib.load('lightfm_model.pkl')\n"
   ],
   "metadata": {
    "id": "afiKFwTAF0xq"
   },
   "execution_count": 7,
   "outputs": []
  },
  {
   "cell_type": "markdown",
   "source": [
    "# Function to calculate item similarities (cosine similarity)"
   ],
   "metadata": {
    "id": "SAD7YtzaIdh2"
   }
  },
  {
   "cell_type": "code",
   "source": [
    "def calculate_item_similarity(item_id, all_item_embeddings):\n",
    "    item_embedding = all_item_embeddings[item_id]\n",
    "    similarities = cosine_similarity([item_embedding], all_item_embeddings)[0]\n",
    "    similar_item_ids = similarities.argsort()[::-1][1:11]  # Exclude the item itself\n",
    "    return similar_item_ids\n"
   ],
   "metadata": {
    "id": "9xNhNgRUKR0o"
   },
   "execution_count": 8,
   "outputs": []
  },
  {
   "cell_type": "code",
   "source": [
    "item_id = 1\n",
    "similar_items = calculate_item_similarity(item_id, deployed_model.item_embeddings)\n",
    "print(f'Top 10 similar items to item {item_id}: {similar_items}')\n",
    "\n"
   ],
   "metadata": {
    "colab": {
     "base_uri": "https://localhost:8080/"
    },
    "id": "krVRM6qdKZGk",
    "outputId": "e634fb3d-44e8-4352-9bfc-7030459da1cf"
   },
   "execution_count": 9,
   "outputs": [
    {
     "output_type": "stream",
     "name": "stdout",
     "text": [
      "Top 10 similar items to item 1: [ 689   23  652  314  696 1483  533  707  505 1560]\n"
     ]
    }
   ]
  },
  {
   "cell_type": "markdown",
   "source": [
    "# Function to recommend top-N movies for a given user"
   ],
   "metadata": {
    "id": "k6bSrBm4HuU-"
   }
  },
  {
   "cell_type": "code",
   "source": [
    "def recommend_movies_for_user(user_id, model, num_items, num_recommendations=10):\n",
    "    \"\"\"\n",
    "    Recommend top-N movies for a given user.\n",
    "\n",
    "    Parameters:\n",
    "    - user_id: ID of the user for whom to recommend movies\n",
    "    - model: Trained LightFM model\n",
    "    - num_items: Total number of items in the dataset\n",
    "    - num_recommendations: Number of movie recommendations to return\n",
    "\n",
    "    Returns:\n",
    "    - recommended_items: List of recommended item IDs\n",
    "    \"\"\"\n",
    "    # Calculate the scores for all items for the user\n",
    "    scores = model.predict(user_ids=np.array([user_id] * num_items), item_ids=np.arange(num_items))\n",
    "\n",
    "    # Get the indices of the items with the highest scores\n",
    "    recommended_items = np.argsort(-scores)[:num_recommendations]\n",
    "\n",
    "    return recommended_items"
   ],
   "metadata": {
    "id": "ddImX8GDHIYN"
   },
   "execution_count": 10,
   "outputs": []
  },
  {
   "cell_type": "code",
   "source": [
    "# Example usage\n",
    "user_id = 3\n",
    "num_items = deployed_model.item_embeddings.shape[0]\n",
    "recommended_movies = recommend_movies_for_user(user_id, deployed_model, num_items)\n",
    "print(f'Top {len(recommended_movies)} recommended movies for user {user_id}: {recommended_movies}')\n"
   ],
   "metadata": {
    "colab": {
     "base_uri": "https://localhost:8080/"
    },
    "id": "VmTByqD3Gdu3",
    "outputId": "08556223-0d27-4af4-d997-09330034acce"
   },
   "execution_count": 11,
   "outputs": [
    {
     "output_type": "stream",
     "name": "stdout",
     "text": [
      "Top 10 recommended movies for user 3: [764 166 753 192 244  20 238 744 774 232]\n"
     ]
    }
   ]
  },
  {
   "cell_type": "code",
   "source": [],
   "metadata": {
    "id": "Ox9IFfA5J5fe"
   },
   "execution_count": null,
   "outputs": []
  }
 ]
}
